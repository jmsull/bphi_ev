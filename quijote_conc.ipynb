{
 "cells": [
  {
   "cell_type": "markdown",
   "metadata": {},
   "source": [
    "Figure 3,4"
   ]
  },
  {
   "cell_type": "code",
   "execution_count": null,
   "metadata": {},
   "outputs": [],
   "source": [
    "import numpy as np\n",
    "import matplotlib.pyplot as plt\n",
    "%config InlineBackend.figure_format = 'retina'\n",
    "%matplotlib inline\n",
    "from nbodykit.lab import *\n",
    "from nbodykit import setup_logging, style\n",
    "from nbodykit.cosmology import Planck15\n",
    "from scipy.interpolate import InterpolatedUnivariateSpline as ius\n",
    "import warnings\n",
    "warnings.simplefilter(action='ignore', category=FutureWarning) # many annoying dask warnings from bigfile\n",
    "plt.style.use(style.notebook)\n",
    "setup_logging()"
   ]
  },
  {
   "cell_type": "markdown",
   "metadata": {},
   "source": [
    "### Quijote (Rockstar for conc.)"
   ]
  },
  {
   "cell_type": "code",
   "execution_count": null,
   "metadata": {},
   "outputs": [],
   "source": [
    "quijote_path = \"/pscratch/sd/j/jsull/Quijote_png/quijote_s8s/\"\n",
    "s8strings = [\"s8_m/\", \"s8_0/\",\"s8_p/\"] # s8_0 is not the first element!\n",
    "s8vals = np.array([0.819,0.834, 0.849]) #from table here: https://quijote-simulations.readthedocs.io/en/latest/types.html\n",
    "seeds = np.arange(100,131)\n",
    "# they have output redshifts at \n",
    "zidxs = [0,1,2,3,4]\n",
    "avals = np.array([0.25, 0.333333, 0.5,0.666667,1.0])\n",
    "zvals = 1./avals - 1.0\n",
    "L = 1000.0"
   ]
  },
  {
   "cell_type": "code",
   "execution_count": null,
   "metadata": {},
   "outputs": [],
   "source": [
    "# Load rockstar catalogs (from https://quijote-simulations.readthedocs.io/en/latest/halos.html?highlight=rockstar)\n",
    "def get_rockstar_quijote(s8idx,seed,zidx):\n",
    "    # catalog file\n",
    "    f_catalog = quijote_path+s8strings[s8idx]+'{0}/out_{1}_pid.list'.format(seed,zidx)\n",
    "\n",
    "    # get the column names\n",
    "    with open(f_catalog) as f: colnames = f.readline()\n",
    "    colkeys = colnames[1:-1].split(' ')\n",
    "    # read the halo catalog\n",
    "    data = np.loadtxt(f_catalog)\n",
    "\n",
    "    return dict(zip(colkeys, data.T))"
   ]
  },
  {
   "cell_type": "code",
   "execution_count": 4,
   "metadata": {},
   "outputs": [],
   "source": [
    "def get_rockstar_quijote_allseeds(s8idx,zidx):\n",
    "    return [get_rockstar_quijote(s8idx,seed,zidx) for seed in seeds]"
   ]
  },
  {
   "cell_type": "code",
   "execution_count": null,
   "metadata": {},
   "outputs": [],
   "source": [
    "# bin by mass (on a single catalog)\n",
    "def bin_prop(cat,bin_edges,props=['Mvir']):\n",
    "    # Returns a 1D/2D array of binned catalogs by up to two properties\n",
    "    prop_cats = []\n",
    "    if len(props==1):\n",
    "        for prop in props:\n",
    "            col = cat[prop]\n",
    "            for be in bin_edges[prop]:\n",
    "                prop_mask = (col >= be[0]) & (col < be[1])\n",
    "                prop_cats.append(cat[prop][prop_mask])\n",
    "    elif len(props==2):\n",
    "        # cut by two properties at once\n",
    "        prop_masks = [[] for _ in range(len(props))]\n",
    "        for prop in props:\n",
    "            col = cat[prop]\n",
    "            for be in bin_edges[prop]:\n",
    "                prop_masks[prop].append((col >= be[0]) & (col < be[1]))\n",
    "        for i in range(len(prop_masks[0])):\n",
    "            for j in range(len(prop_masks[1])):\n",
    "                prop_cats.append(cat[prop_masks[0][i] & prop_masks[1][j]])\n",
    "        for prop in props:\n",
    "            col = cat[prop]\n",
    "            for be in bin_edges[prop]:\n",
    "                prop_mask = (col >= be[0]) & (col < be[1])\n",
    "                prop_cats.append(cat[prop][prop_mask])\n",
    "    else: return NotImplementedError(\"FIXME ADD MORE PARAMETERS\")\n",
    "    return prop_cats\n",
    "\n",
    "def bin_mass_allzs(zcats,bin_edges,prop):\n",
    "    return [bin_prop(cat,bin_edges,prop) for cat in zcats]\n",
    "\n",
    "def bin_mass_allseeds_allzs(seedcats,bin_edges,prop):\n",
    "    return [bin_mass_allzs(scat,bin_edges,prop) for scat in seedcats]\n",
    "\n",
    "# compute the number densities\n",
    "def compute_nbar_seedmean_z(cats,L=L):\n",
    "    # cats a nested list with outer dim zs, inner dim seeds\n",
    "    V = L**3\n",
    "    mean_nbars,var_nbars = [],[]\n",
    "    for zidx in zidxs:\n",
    "            mean_nbars.append(np.mean([len(cats[zidx][sidx]['ID'])/V for sidx in range(len(seeds))]))\n",
    "            var_nbars.append(np.var([len(cats[zidx][sidx]['ID'])/V for sidx in range(len(seeds))]))\n",
    "            print(\"z={0:.2f}, nbar={1:.2e}\".format(zvals[zidx],mean_nbars[zidx]))\n",
    "    return mean_nbars,var_nbars\n",
    "\n",
    "def compute_nbars_z_mass(cats,mass,L=L):\n",
    "    # cats a nested list with outer dim zs, inner dim seeds\n",
    "    V = L**3\n",
    "    nbars = np.zeros((len(zidxs),len(seeds)))\n",
    "    for zidx in zidxs:\n",
    "        for sidx in range(len(seeds)):\n",
    "            mask = (cats[zidx][sidx]['Mvir'] > mass[0]) & (cats[zidx][sidx]['Mvir'] < mass[1])\n",
    "            nbars[zidx,sidx] = len(cats[zidx][sidx]['ID'][mask])/V\n",
    "    return nbars\n",
    "\n",
    "def compute_nbars_z_mass_conc(cats,mass,conc,L=L):\n",
    "    # cats a nested list with outer dim zs, inner dim seeds\n",
    "    V = L**3\n",
    "    nbars = np.zeros((len(zidxs),len(seeds)))\n",
    "    for zidx in zidxs:\n",
    "        for sidx in range(len(seeds)):\n",
    "            cats[zidx][sidx]['conc'] = cats[zidx][sidx]['Rvir']/cats[zidx][sidx]['Rs']\n",
    "            mass_mask = (cats[zidx][sidx]['Mvir'] > mass[0]) & (cats[zidx][sidx]['Mvir'] < mass[1])\n",
    "            conc_mask = (cats[zidx][sidx]['conc'] > conc[0]) & (cats[zidx][sidx]['conc'] < conc[1])\n",
    "            mask = mass_mask & conc_mask\n",
    "            nbars[zidx,sidx] = len(cats[zidx][sidx]['ID'][mask])/V\n",
    "    return nbars"
   ]
  },
  {
   "cell_type": "code",
   "execution_count": null,
   "metadata": {},
   "outputs": [],
   "source": [
    "#takes 12 min or so...\n",
    "rockstar_s8m_allseeds_allz = [get_rockstar_quijote_allseeds(0,zidx) for zidx in zidxs]\n",
    "rockstar_s80_allseeds_allz = [get_rockstar_quijote_allseeds(1,zidx) for zidx in zidxs]\n",
    "rockstar_s8p_allseeds_allz = [get_rockstar_quijote_allseeds(2,zidx) for zidx in zidxs]"
   ]
  },
  {
   "cell_type": "code",
   "execution_count": 7,
   "metadata": {},
   "outputs": [],
   "source": [
    "rockstar_s80_100_allz = [get_rockstar_quijote(0,100,zidx) for zidx in zidxs]"
   ]
  },
  {
   "cell_type": "code",
   "execution_count": null,
   "metadata": {},
   "outputs": [],
   "source": [
    "# selection on mass\n",
    "halo_mass_bins = np.logspace(13.3,15.0,10+1)\n",
    "halo_mass_cens = (halo_mass_bins[1:]+halo_mass_bins[:-1])/2\n",
    "halo_mass_bin_edges = list(zip(halo_mass_bins[:-1],halo_mass_bins[1:]))"
   ]
  },
  {
   "cell_type": "code",
   "execution_count": 22,
   "metadata": {},
   "outputs": [],
   "source": [
    "nbarmass_halos_s80 = np.array([compute_nbars_z_mass(rockstar_s80_allseeds_allz, halo_mass_bin_edges[midx]) for midx in range(len(halo_mass_bin_edges))])\n",
    "nbarmass_halos_s8m = np.array([compute_nbars_z_mass(rockstar_s8m_allseeds_allz, halo_mass_bin_edges[midx]) for midx in range(len(halo_mass_bin_edges))])\n",
    "nbarmass_halos_s8p = np.array([compute_nbars_z_mass(rockstar_s8p_allseeds_allz, halo_mass_bin_edges[midx]) for midx in range(len(halo_mass_bin_edges))])\n"
   ]
  },
  {
   "cell_type": "code",
   "execution_count": null,
   "metadata": {},
   "outputs": [],
   "source": [
    "mean_bphiz_mass_halos_zspline_s8m = np.array([np.mean([ius(zvals[::-1],nbarmass_halos_s8m[midx][::-1,sidx]).derivative()(zvals)*-2*(1+zvals)/nbarmass_halos_s8m[midx][:,sidx] for sidx in range(len(seeds))],axis=0) for midx in range(len(halo_mass_bin_edges))])\n",
    "mean_bphiz_mass_halos_zspline_s80 = np.array([np.mean([ius(zvals[::-1],nbarmass_halos_s80[midx][::-1,sidx]).derivative()(zvals)*-2*(1+zvals)/nbarmass_halos_s80[midx][:,sidx] for sidx in range(len(seeds))],axis=0) for midx in range(len(halo_mass_bin_edges))])\n",
    "mean_bphiz_mass_halos_zspline_s8p = np.array([np.mean([ius(zvals[::-1],nbarmass_halos_s8p[midx][::-1,sidx]).derivative()(zvals)*-2*(1+zvals)/nbarmass_halos_s8p[midx][:,sidx] for sidx in range(len(seeds))],axis=0) for midx in range(len(halo_mass_bin_edges))])\n",
    "var_bphiz_mass_halos_zspline_s8m = np.array([np.var([ius(zvals[::-1],nbarmass_halos_s8m[midx][::-1,sidx]).derivative()(zvals)*-2*(1+zvals)/nbarmass_halos_s8m[midx][:,sidx] for sidx in range(len(seeds))],axis=0) for midx in range(len(halo_mass_bin_edges))])\n",
    "var_bphiz_mass_halos_zspline_s80 = np.array([np.var([ius(zvals[::-1],nbarmass_halos_s80[midx][::-1,sidx]).derivative()(zvals)*-2*(1+zvals)/nbarmass_halos_s80[midx][:,sidx] for sidx in range(len(seeds))],axis=0) for midx in range(len(halo_mass_bin_edges))])\n",
    "var_bphiz_mass_halos_zspline_s8p = np.array([np.var([ius(zvals[::-1],nbarmass_halos_s8p[midx][::-1,sidx]).derivative()(zvals)*-2*(1+zvals)/nbarmass_halos_s8p[midx][:,sidx] for sidx in range(len(seeds))],axis=0) for midx in range(len(halo_mass_bin_edges))])"
   ]
  },
  {
   "cell_type": "code",
   "execution_count": null,
   "metadata": {},
   "outputs": [],
   "source": [
    "nbarallhalos_s8m,varallhalos_s8m = compute_nbar_seedmean_z(rockstar_s8m_allseeds_allz)\n",
    "nbarallhalos_s80,varallhalos_s80 = compute_nbar_seedmean_z(rockstar_s80_allseeds_allz)\n",
    "nbarallhalos_s8p,varallhalos_s8p = compute_nbar_seedmean_z(rockstar_s8p_allseeds_allz)"
   ]
  },
  {
   "cell_type": "markdown",
   "metadata": {},
   "source": [
    "## Mass bins"
   ]
  },
  {
   "cell_type": "code",
   "execution_count": 26,
   "metadata": {},
   "outputs": [],
   "source": [
    "# and concentration\n",
    "conc_bins = np.linspace(1,20,10+1)\n",
    "conc_cens = (conc_bins[1:]+conc_bins[:-1])/2\n",
    "conc_bin_edges = list(zip(conc_bins[:-1],conc_bins[1:]))"
   ]
  },
  {
   "cell_type": "code",
   "execution_count": 27,
   "metadata": {},
   "outputs": [],
   "source": [
    "nbarmassconc_halos_s8m = np.array([[compute_nbars_z_mass_conc(rockstar_s8m_allseeds_allz, halo_mass_bin_edges[midx],conc_bin_edges[cidx]) for midx in range(len(halo_mass_bin_edges))] for cidx in range(len(conc_bin_edges))])\n",
    "nbarmassconc_halos_s80 = np.array([[compute_nbars_z_mass_conc(rockstar_s80_allseeds_allz, halo_mass_bin_edges[midx],conc_bin_edges[cidx]) for midx in range(len(halo_mass_bin_edges))] for cidx in range(len(conc_bin_edges))])\n",
    "nbarmassconc_halos_s8p = np.array([[compute_nbars_z_mass_conc(rockstar_s8p_allseeds_allz, halo_mass_bin_edges[midx],conc_bin_edges[cidx]) for midx in range(len(halo_mass_bin_edges))] for cidx in range(len(conc_bin_edges))])\n"
   ]
  },
  {
   "cell_type": "code",
   "execution_count": null,
   "metadata": {},
   "outputs": [],
   "source": [
    "# copy formula from other notebook...\n",
    "def bphi(Ns,Xs): # from TNG file\n",
    "    #X = sigma8 or Dz\n",
    "    # Function to compute (centered) FD derivative given some numberdensity tuple (Nm,N0,Np)\n",
    "    # and corresponding redshift/s8 tuple (zm,z0,zp) in order of decreasing redshift (increasing a)\n",
    "    # or increasing sigma8\n",
    "    d1pX1,d1pX2 = Xs[0]-Xs[1],-(Xs[1]-Xs[2])\n",
    "    reld1pX1,reld1pX2 = d1pX1/(Xs[1]),d1pX2/(Xs[1])\n",
    "    bphi_hi = 2/reld1pX1 *(Ns[0]/Ns[1] -1) #low on N refers to low g-r, redshifts in dec order\n",
    "    bphi_lo = 2/reld1pX2 *(Ns[2]/Ns[1] -1) \n",
    "    #averaging procedure of Barriera++20\n",
    "    bphi = (bphi_hi + bphi_lo)/2.0\n",
    "    return bphi\n",
    "\n"
   ]
  },
  {
   "cell_type": "code",
   "execution_count": null,
   "metadata": {},
   "outputs": [],
   "source": [
    "mean_s8_su_bphi_mass = np.array([ [np.mean([bphi([nbarmass_halos_s8m[midx,zidx,sidx],nbarmass_halos_s80[midx,zidx,sidx],nbarmass_halos_s8p[midx,zidx,sidx]],s8vals) for sidx in range(len(seeds)) ] ) for zidx in zidxs] for midx in range(len(halo_mass_bin_edges))])\n",
    "var_s8_su_bphi_mass = np.array([ [np.var([bphi([nbarmass_halos_s8m[midx,zidx,sidx],nbarmass_halos_s80[midx,zidx,sidx],nbarmass_halos_s8p[midx,zidx,sidx]],s8vals) for sidx in range(len(seeds)) ] ) for zidx in zidxs] for midx in range(len(halo_mass_bin_edges))])\n"
   ]
  },
  {
   "cell_type": "code",
   "execution_count": null,
   "metadata": {},
   "outputs": [],
   "source": [
    "mean_s8_su_bphi_massconc = np.array([[ [np.mean([bphi([nbarmassconc_halos_s8m[cidx,midx,zidx,sidx],nbarmassconc_halos_s80[cidx,midx,zidx,sidx],nbarmassconc_halos_s8p[cidx,midx,zidx,sidx]],s8vals) for sidx in range(len(seeds)) ] ) for zidx in zidxs] for midx in range(len(halo_mass_bin_edges))] for cidx in range(len(conc_bin_edges))])\n",
    "var_s8_su_bphi_massconc = np.array([[ [np.var([bphi([nbarmassconc_halos_s8m[cidx,midx,zidx,sidx],nbarmassconc_halos_s80[cidx,midx,zidx,sidx],nbarmassconc_halos_s8p[cidx,midx,zidx,sidx]],s8vals) for sidx in range(len(seeds)) ] ) for zidx in zidxs] for midx in range(len(halo_mass_bin_edges))] for cidx in range(len(conc_bin_edges))])\n"
   ]
  },
  {
   "cell_type": "code",
   "execution_count": null,
   "metadata": {},
   "outputs": [],
   "source": [
    "mean_bphiz_massconc_halos_zspline_s80 = np.array([[np.mean([ius(zvals[::-1],nbarmassconc_halos_s80[cidx,midx][::-1,sidx]).derivative()(zvals)*-2*(1+zvals)/nbarmassconc_halos_s80[cidx,midx][:,sidx] for sidx in range(len(seeds))],axis=0) for midx in range(len(halo_mass_bin_edges))]for cidx in range(len(halo_mass_bin_edges))])\n",
    "var_bphiz_massconc_halos_zspline_s80 = np.array([[np.var([ius(zvals[::-1],nbarmassconc_halos_s80[cidx,midx][::-1,sidx]).derivative()(zvals)*-2*(1+zvals)/nbarmassconc_halos_s80[cidx,midx][:,sidx] for sidx in range(len(seeds))],axis=0) for midx in range(len(halo_mass_bin_edges))]for cidx in range(len(halo_mass_bin_edges))])\n"
   ]
  },
  {
   "cell_type": "code",
   "execution_count": 33,
   "metadata": {},
   "outputs": [],
   "source": [
    "fzvals = Planck15.scale_independent_growth_rate(zvals)"
   ]
  },
  {
   "cell_type": "code",
   "execution_count": 34,
   "metadata": {},
   "outputs": [],
   "source": [
    "Plin = cosmology.LinearPower(Planck15, redshift=0.0, transfer='CLASS')"
   ]
  },
  {
   "cell_type": "code",
   "execution_count": null,
   "metadata": {},
   "outputs": [],
   "source": [
    "for u_zidx in range(len(zvals)):\n",
    "    plt.figure(figsize=(5,4))\n",
    "    plt.title(\"z = {0:.1f}\".format(zvals[u_zidx]))\n",
    "    plt.errorbar(halo_mass_cens,mean_s8_su_bphi_mass[:,u_zidx],yerr=np.sqrt(var_s8_su_bphi_mass[:,u_zidx]),fmt='s',capsize=5,capthick=2,label=r'$b_{\\phi}^{\\sigma_8}$')\n",
    "    plt.errorbar(halo_mass_cens,mean_bphiz_mass_halos_zspline_s80[:,u_zidx],yerr=np.sqrt(var_bphiz_mass_halos_zspline_s80[:,u_zidx]),fmt='o',capsize=5,capthick=2,label=r'$b_{\\phi}^{z}$')\n",
    "    plt.errorbar(halo_mass_cens,mean_bphiz_mass_halos_zspline_s80[:,u_zidx]/fzvals[u_zidx],yerr=np.sqrt(var_bphiz_mass_halos_zspline_s80[:,u_zidx])/fzvals[u_zidx],fmt='.',capsize=5,capthick=2,label=r'$b_{\\phi}^{D(z)} = f^{-1}~b_{\\phi}^{z}$')\n",
    "    plt.legend(prop={\"size\":14})\n",
    "    plt.xscale('log')\n",
    "    plt.xlabel(r'$M_{h}$')\n",
    "    plt.ylabel(r'$b_{\\phi}^{X}$')\n",
    "    plt.savefig(\"../plots/bphi_mass_z_{0:.1f}_quijote.pdf\".format(zvals[u_zidx]))\n",
    "    plt.savefig(\"../plots/bphi_mass_z_{0:.1f}_quijote.png\".format(zvals[u_zidx]))\n",
    "    plt.show()"
   ]
  },
  {
   "cell_type": "markdown",
   "metadata": {},
   "source": [
    "# Try a selection on just concentration"
   ]
  },
  {
   "cell_type": "code",
   "execution_count": 18,
   "metadata": {},
   "outputs": [],
   "source": [
    "import matplotlib.pylab as pl\n",
    "colors = pl.cm.Blues(np.linspace(0.2,1,len(conc_cens)))"
   ]
  },
  {
   "cell_type": "code",
   "execution_count": null,
   "metadata": {},
   "outputs": [],
   "source": [
    "for u_zidx in range(2,len(zvals)): \n",
    "    for m_idx in range(len(halo_mass_cens)):\n",
    "        plt.figure(figsize=(5,4))\n",
    "        plt.title(r\"$\\langle M_{h} \\rangle$\"+\" = {0:.1e}, \".format(halo_mass_cens[m_idx])+r\"z = \"+\" {0:.1f}\".format(zvals[u_zidx]),fontsize=18)\n",
    "        plt.errorbar(conc_cens,mean_s8_su_bphi_massconc[:,m_idx,u_zidx],yerr=np.sqrt(var_s8_su_bphi_massconc[:,m_idx,u_zidx]),fmt='s',capsize=5,capthick=2,\n",
    "                     label=r'$b_{\\phi}^{\\sigma_8}$' \n",
    "                     )\n",
    "        plt.errorbar(conc_cens,mean_bphiz_massconc_halos_zspline_s80[:,m_idx,u_zidx]/fzvals[u_zidx],yerr=np.sqrt(var_bphiz_massconc_halos_zspline_s80[:,m_idx,u_zidx])/fzvals[u_zidx],\n",
    "                    fmt='o',capsize=5,capthick=2,label=None,\n",
    "\n",
    "                    )\n",
    "        plt.errorbar(conc_cens,mean_bphiz_massconc_halos_zspline_s80[:,m_idx,u_zidx]/fzvals[u_zidx],yerr=np.sqrt(var_bphiz_massconc_halos_zspline_s80[:,m_idx,u_zidx])/fzvals[u_zidx],\n",
    "                    fmt='o',capsize=5,capthick=2,label=r'$b_{\\phi}^{D(z)} = f^{-1}~b_{\\phi}^{z}$',\n",
    "                    \n",
    "                    )\n",
    "        plt.legend()\n",
    "        plt.xlabel(r'$c$')\n",
    "        plt.ylabel(r'$b_{\\phi}^{X}$')\n",
    "        plt.savefig('../plots/bphiczm_z_{0:.1f}_m_{1:.3e}conc_quijote.pdf'.format(zvals[u_zidx],halo_mass_cens[m_idx]))\n",
    "        plt.savefig('../plots/bphiczcm_z_{0:.1f}_m_{1:.3e}conc_quijote.png'.format(zvals[u_zidx],halo_mass_cens[m_idx]))\n",
    "        plt.show()"
   ]
  }
 ],
 "metadata": {
  "kernelspec": {
   "display_name": "nbkn",
   "language": "python",
   "name": "python3"
  },
  "language_info": {
   "codemirror_mode": {
    "name": "ipython",
    "version": 3
   },
   "file_extension": ".py",
   "mimetype": "text/x-python",
   "name": "python",
   "nbconvert_exporter": "python",
   "pygments_lexer": "ipython3",
   "version": "3.7.12"
  }
 },
 "nbformat": 4,
 "nbformat_minor": 2
}
