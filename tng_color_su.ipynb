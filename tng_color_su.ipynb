{
 "cells": [
  {
   "cell_type": "code",
   "execution_count": 1,
   "metadata": {},
   "outputs": [],
   "source": [
    "# CAMELS-TNG bias for Figure 5"
   ]
  },
  {
   "cell_type": "code",
   "execution_count": null,
   "metadata": {},
   "outputs": [],
   "source": [
    "import numpy as np\n",
    "import matplotlib.pyplot as plt\n",
    "%config InlineBackend.figure_format = 'retina'\n",
    "%matplotlib inline\n",
    "from nbodykit.lab import *\n",
    "from nbodykit import setup_logging, style\n",
    "from nbodykit.cosmology import Planck15\n",
    "from scipy.interpolate import InterpolatedUnivariateSpline as ius\n",
    "import warnings\n",
    "import h5py\n",
    "import hdf5plugin\n",
    "warnings.simplefilter(action='ignore', category=FutureWarning) # many annoying dask warnings from bigfile\n",
    "plt.style.use(style.notebook)\n",
    "setup_logging()\n",
    "L=25. #Mpc/h\n",
    "volume=L**3"
   ]
  },
  {
   "cell_type": "code",
   "execution_count": 2,
   "metadata": {},
   "outputs": [],
   "source": [
    "z0,s80 = 1.0,0.8\n",
    "# these are determined by what is avaliable...\n",
    "zstep,s8step = 0.05,0.04\n",
    "zm,zp,s8m,s8p = z0-zstep,z0+zstep,np.round(s80-s8step,2),np.round(s80+s8step,2)"
   ]
  },
  {
   "cell_type": "code",
   "execution_count": 3,
   "metadata": {},
   "outputs": [],
   "source": [
    "path = '/pscratch/sd/j/jsull/fnl/camels_tng/'\n",
    "camels_s8s = dict(zip([\"1P_2_{0}/\".format(\"n{0}\".format(-i) if i<0 else \"{0}\".format(i)) for i in range(-5,6)],\n",
    "                      np.linspace(0.6,1.0,11),\n",
    "                      ))\n",
    "s8s_camels = {np.round(v,2): k for k, v in camels_s8s.items()}\n"
   ]
  },
  {
   "cell_type": "code",
   "execution_count": 4,
   "metadata": {},
   "outputs": [],
   "source": [
    "dirm,dir0,dirp = s8s_camels[s8m],s8s_camels[s80],s8s_camels[s8p]"
   ]
  },
  {
   "cell_type": "code",
   "execution_count": 5,
   "metadata": {},
   "outputs": [],
   "source": [
    "# get ns separately \n",
    "with open(path+dir0+'ICs/CAMB.params') as icfile: lines = icfile.readlines() \n",
    "for line in lines: \n",
    "    if('an = [' in line): ns = float(line.split('[')[1].split(',')[0])"
   ]
  },
  {
   "cell_type": "code",
   "execution_count": 6,
   "metadata": {},
   "outputs": [],
   "source": [
    "f0 = h5py.File(path+dir0+'snap_018.hdf5','r')\n",
    "fzm = h5py.File(path+dirm+'snap_017.hdf5','r')\n",
    "fzp = h5py.File(path+dirp+'snap_019.hdf5','r')\n",
    "\n",
    "fof0 = h5py.File(path+dir0+'fof_subhalo_tab_018.hdf5','r')\n",
    "fofm = h5py.File(path+dirm+'fof_subhalo_tab_018.hdf5','r')\n",
    "fofp = h5py.File(path+dirp+'fof_subhalo_tab_018.hdf5','r')\n",
    "\n",
    "fof0zm = h5py.File(path+dir0+'fof_subhalo_tab_017.hdf5','r')\n",
    "fof0zp = h5py.File(path+dir0+'fof_subhalo_tab_019.hdf5','r')"
   ]
  },
  {
   "cell_type": "code",
   "execution_count": null,
   "metadata": {},
   "outputs": [],
   "source": [
    "cosmo = cosmology.Cosmology(h=f0['Header'].attrs['HubbleParam'], \n",
    "                            Omega0_b=f0['Header'].attrs['OmegaBaryon'], \n",
    "                            Omega0_cdm=f0['Header'].attrs['Omega0']-f0['Header'].attrs['OmegaBaryon'], # assume no neutrinos \n",
    "                            n_s=ns, sigma8=s80)\n",
    "\n",
    "Dzs = (cosmo.scale_independent_growth_factor(fzm['Header'].attrs['Redshift']),\n",
    "       cosmo.scale_independent_growth_factor(f0['Header'].attrs['Redshift']),\n",
    "       cosmo.scale_independent_growth_factor(fzp['Header'].attrs['Redshift']))\n",
    "s8s = (s8m,s80,s8p)"
   ]
  },
  {
   "attachments": {},
   "cell_type": "markdown",
   "metadata": {},
   "source": [
    "Set color and mass bins, and bin the data"
   ]
  },
  {
   "cell_type": "code",
   "execution_count": null,
   "metadata": {},
   "outputs": [],
   "source": [
    "#FIXME this is pretty hacky, should set the mask once rather than remasking\n",
    "def cut_finite(data):\n",
    "    # Drop subhalos with no stellar mass, or nan values\n",
    "    stellar_mass = [data[i]['Subhalo']['SubhaloMassType'][:,4]*1e10 for i in range(len(data))]# stars is PartType4\n",
    "    mass_flag = [np.sort(np.where(stellar_mass[i]>0.0)[0]) for i in range(len(data))]\n",
    "    grimag = [np.asarray(data[i]['Subhalo']['SubhaloStellarPhotometrics'][:,4:7])[mass_flag[i]]  for i in range(len(data))]\n",
    "    halo_index = [np.asarray(data[i]['Subhalo'][\"SubhaloGrNr\"])[mass_flag[i]]  for i in range(len(data))]\n",
    "    halo_mass200m = [np.asarray(data[i]['Group'][\"Group_M_Mean200\"])[halo_index[i]]*1e10  for i in range(len(data))]\n",
    "    total_mass = [np.sum(data[i]['Subhalo']['SubhaloMassType'],axis=1)*1e10 for i in range(len(data))]\n",
    "    stellar_mass = [stellar_mass[i][mass_flag[i]] for i in range(len(data))]\n",
    "    pos_cm = [np.asarray(data[i]['Subhalo']['SubhaloCM'])[mass_flag[i]]/1e3 for i in range(len(data))]\n",
    "    pos_pot = [np.asarray(data[i]['Subhalo']['SubhaloPos'])[mass_flag[i]]/1e3 for i in range(len(data))]\n",
    "    halo_mass_flag = [np.where((halo_mass200m[i]>0.0) & (np.isfinite(halo_mass200m[i])))[0] for i in range(len(data))]\n",
    "    grimag = [grimag[i][halo_mass_flag[i]]  for i in range(len(data))]\n",
    "    stellar_mass = [stellar_mass[i][halo_mass_flag[i]] for i in range(len(data))]\n",
    "    total_mass = [total_mass[i][halo_mass_flag[i]] for i in range(len(data))]\n",
    "    pos_cm = [pos_cm[i][halo_mass_flag[i]] for i in range(len(data))]\n",
    "    pos_pot = [pos_pot[i][halo_mass_flag[i]] for i in range(len(data))]\n",
    "    halo_mass200m = [halo_mass200m[i][halo_mass_flag[i]] for i in range(len(data))]\n",
    "    gminusr = [grimag[i][:,0]-grimag[i][:,1]  for i in range(len(data))]\n",
    "    return total_mass,stellar_mass, gminusr, halo_mass200m,pos_cm,pos_pot"
   ]
  },
  {
   "cell_type": "code",
   "execution_count": 11,
   "metadata": {},
   "outputs": [],
   "source": [
    "data_s8,data_Dz = [fofm,fof0,fofp],[fof0zm,fof0,fof0zp]\n",
    "total_mass_s8, stellar_mass_s8, gminusr_s8, halo_mass200m_s8,pos_cm_s8,pos_pot_s8 = cut_finite(data_s8)\n",
    "total_mass_Dz, stellar_mass_Dz, gminusr_Dz, halo_mass200m_Dz,pos_cm_Dz,pos_pot_Dz = cut_finite(data_Dz)"
   ]
  },
  {
   "attachments": {},
   "cell_type": "markdown",
   "metadata": {},
   "source": [
    "Compute number density in each bin in the FD snapshots (simply by counting galaxies)"
   ]
  },
  {
   "cell_type": "code",
   "execution_count": 13,
   "metadata": {},
   "outputs": [],
   "source": [
    "def bphi(Ns,Xs):\n",
    "    #X = sigma8 or Dz\n",
    "    # Function to compute (centered) FD derivative given some numberdensity tuple (Nm,N0,Np)\n",
    "    # and corresponding redshift/s8 tuple (zm,z0,zp) in order of decreasing redshift (increasing a)\n",
    "    # or increasing sigma8\n",
    "    d1pX1,d1pX2 = Xs[0]-Xs[1],-(Xs[1]-Xs[2])\n",
    "    reld1pX1,reld1pX2 = d1pX1/(Xs[1]),d1pX2/(Xs[1])\n",
    "    bphi_hi = 2/reld1pX1 *(Ns[0]/Ns[1] -1) #low on N refers to low g-r, redshifts in dec order\n",
    "    bphi_lo = 2/reld1pX2 *(Ns[2]/Ns[1] -1) \n",
    "    #averaging procedure of Barriera++20\n",
    "    bphi = (bphi_hi + bphi_lo)/2.0\n",
    "    return bphi\n"
   ]
  },
  {
   "cell_type": "code",
   "execution_count": null,
   "metadata": {},
   "outputs": [],
   "source": [
    "def bin_mask(pos,binsi,binsj,binsk):\n",
    "    bin0i,bin1i = binsi\n",
    "    bin0j,bin1j = binsj\n",
    "    bin0k,bin1k = binsk\n",
    "    return (((pos[:,0]>=bin1i) | (pos[:,0]<bin0i) ) |\n",
    "            ((pos[:,1]>=bin1j) | (pos[:,1]<bin0j) ) |\n",
    "            ((pos[:,2]>=bin1k) | (pos[:,2]<bin0k) ) )\n",
    "\n",
    "def jackknife_bphi(position_m,position_0,position_p,\n",
    "                   Xs, L,L_jk):\n",
    "    # cut the box into (L/L_jk)**3 subboxes, return mean and variance of \n",
    "    # mean number density after dropping once subbox at a time\n",
    "    V= L**3\n",
    "    V_jk = V-(L_jk)**3\n",
    "    N_sub_1d = int(L//L_jk)\n",
    "    assert V%L_jk**3==0.0\n",
    "    N_sub = N_sub_1d**3\n",
    "    bins = np.linspace(0,L,N_sub_1d+1)\n",
    "    rep_jk = np.zeros((N_sub_1d,N_sub_1d,N_sub_1d))\n",
    "    for i in range(N_sub_1d):\n",
    "        for j in range(N_sub_1d):\n",
    "            for k in range(N_sub_1d):\n",
    "                mask_m = bin_mask(position_m,bins[i:i+2],bins[j:j+2],bins[k:k+2])\n",
    "                mask_0 = bin_mask(position_0,bins[i:i+2],bins[j:j+2],bins[k:k+2])\n",
    "                mask_p = bin_mask(position_p,bins[i:i+2],bins[j:j+2],bins[k:k+2])\n",
    "                n_m,n_0,n_p = np.sum(mask_m)/V_jk,np.sum(mask_0)/V_jk,np.sum(mask_p)/V_jk\n",
    "                rep_jk[i,j,k] = bphi((n_m,n_0,n_p),Xs)\n",
    "                \n",
    "    mean =  np.mean(rep_jk)\n",
    "    var = (N_sub-1)*np.mean((rep_jk-mean)**2)\n",
    "    return mean,np.sqrt(var)\n"
   ]
  },
  {
   "cell_type": "code",
   "execution_count": null,
   "metadata": {},
   "outputs": [],
   "source": [
    "def plot_bias(gminusr,\n",
    "              halo_mass200m,\n",
    "              Xs,\n",
    "              mass_bin=[10**11.5,10**12.0],\n",
    "              gmr_bins = np.linspace(0.1,0.75,8),label=None,\n",
    "              jk=False,position=None):\n",
    "\n",
    "    gmr_bincens = (gmr_bins[1:]+gmr_bins[:-1])/2\n",
    "    Ngmrall = []\n",
    "    Ngmr_bin = []\n",
    "    mask_bin = []\n",
    "    for i in range(3):\n",
    "        bin_gminusr = []#\n",
    "        mask_gminusr = []\n",
    "        Ngmr_bins = np.zeros(len(gmr_bins)-1)\n",
    "        for j in range(len(gmr_bins)-1):\n",
    "            mask_gminusr.append(((halo_mass200m[i]>mass_bin[0]) & (halo_mass200m[i]<=mass_bin[1])) &\n",
    "                                                ((gminusr[i]>gmr_bins[j]) & (gminusr[i]<=gmr_bins[j+1])))\n",
    "            bin_gminusr_j = gminusr[i][mask_gminusr[j] ]\n",
    "            bin_gminusr.append(bin_gminusr_j)\n",
    "            Ngmr_bins[j] = np.sum(bin_gminusr_j)\n",
    "            \n",
    "        Ngmr_bin.append(Ngmr_bins)\n",
    "        mask_bin.append(mask_gminusr)\n",
    "        Ngmrall.append(np.sum(Ngmr_bins))\n",
    "    if jk:\n",
    "        gmr_jk_mu,gmr_jk_err = np.zeros(len(gmr_bins)-1),np.zeros(len(gmr_bins)-1)\n",
    "        for j in range(len(gmr_bins)-1):\n",
    "            gmr_jk_mu[j],gmr_jk_err[j] = jackknife_bphi(*[position[i][mask_bin[i][j]] for i in range(3)],\n",
    "                Xs,L,5.0)\n",
    "\n",
    "    Ngmr_bin = np.asarray(Ngmr_bin)\n",
    "    bphis = [bphi(Ngmr_bin[:,j],Xs) for j in range(len(gmr_bincens))]\n",
    "    if jk:\n",
    "        plt.errorbar(gmr_bincens,gmr_jk_mu,gmr_jk_err,marker='s',label=label,capsize=3,capthick=2)\n",
    "    else:\n",
    "        plt.plot(gmr_bincens,bphis,marker='s',label=label)\n",
    "    plt.ylabel(r'$b_{\\phi}$',fontsize=18)\n",
    "    plt.xlabel(r'$g-r$',fontsize=18)\n",
    "    plt.title(r'$\\log M_{h} \\in $'+' [{0:.1f},{1:.1f}]'.format(*np.log10(mass_bin)))\n"
   ]
  },
  {
   "cell_type": "code",
   "execution_count": null,
   "metadata": {},
   "outputs": [],
   "source": [
    "massb = [10**12.5,10**12.5]\n",
    "plot_bias(gminusr_s8,halo_mass200m_s8,s8s,mass_bin=massb,label=r\"$\\sigma_{8}$\",jk=True,position=pos_cm_s8)\n",
    "plot_bias(gminusr_Dz,halo_mass200m_Dz,Dzs,mass_bin=massb,label=r\"$D(z)$\",jk=True,position=pos_cm_Dz)\n",
    "plt.legend()\n",
    "plt.xlabel(r'$g-r$',fontsize=18)\n",
    "plt.ylabel(r'$b_{\\phi}$',fontsize=18)\n"
   ]
  }
 ],
 "metadata": {
  "kernelspec": {
   "display_name": "Python 3",
   "language": "python",
   "name": "python3"
  },
  "language_info": {
   "codemirror_mode": {
    "name": "ipython",
    "version": 3
   },
   "file_extension": ".py",
   "mimetype": "text/x-python",
   "name": "python",
   "nbconvert_exporter": "python",
   "pygments_lexer": "ipython3",
   "version": "3.6.9"
  },
  "orig_nbformat": 4
 },
 "nbformat": 4,
 "nbformat_minor": 2
}
