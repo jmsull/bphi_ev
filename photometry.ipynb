{
 "cells": [
  {
   "cell_type": "markdown",
   "metadata": {},
   "source": [
    "Figure 6"
   ]
  },
  {
   "cell_type": "code",
   "execution_count": null,
   "metadata": {},
   "outputs": [],
   "source": [
    "import numpy as np\n",
    "import matplotlib.pyplot as plt\n",
    "%config InlineBackend.figure_format = 'retina'\n",
    "%matplotlib inline\n",
    "from nbodykit.lab import *\n",
    "from nbodykit import setup_logging, style\n",
    "from nbodykit.cosmology import Planck15\n",
    "from scipy.interpolate import InterpolatedUnivariateSpline as ius\n",
    "import warnings\n",
    "warnings.simplefilter(action='ignore', category=FutureWarning) # many annoying dask warnings from bigfile\n",
    "plt.style.use(style.notebook)\n",
    "setup_logging()\n",
    "L = 25.0\n",
    "V = L**3\n",
    "nJy = 1.0000e-23 "
   ]
  },
  {
   "cell_type": "code",
   "execution_count": null,
   "metadata": {},
   "outputs": [],
   "source": [
    "def bphi(Ns,Xs):\n",
    "    #X = sigma8 or Dz\n",
    "    # Function to compute (centered) FD derivative given some numberdensity tuple (Nm,N0,Np)\n",
    "    # and corresponding redshift/s8 tuple (zm,z0,zp) in order of decreasing redshift (increasing a)\n",
    "    # or increasing sigma8\n",
    "    d1pX1,d1pX2 = Xs[0]-Xs[1],-(Xs[1]-Xs[2])\n",
    "    reld1pX1,reld1pX2 = d1pX1/(Xs[1]),d1pX2/(Xs[1])\n",
    "    bphi_hi = 2/reld1pX1 *(Ns[0]/Ns[1] -1) #low on N refers to low g-r, redshifts in dec order\n",
    "    bphi_lo = 2/reld1pX2 *(Ns[2]/Ns[1] -1) \n",
    "    #averaging procedure of Barriera++20\n",
    "    bphi = (bphi_hi + bphi_lo)/2.0\n",
    "    return bphi\n",
    "\n",
    "\n",
    "def bin_mask(pos,binsi,binsj,binsk):\n",
    "    bin0i,bin1i = binsi\n",
    "    bin0j,bin1j = binsj\n",
    "    bin0k,bin1k = binsk\n",
    "    return (((pos[:,0]>=bin1i) | (pos[:,0]<bin0i) ) |\n",
    "            ((pos[:,1]>=bin1j) | (pos[:,1]<bin0j) ) |\n",
    "            ((pos[:,2]>=bin1k) | (pos[:,2]<bin0k) ) )\n",
    "\n",
    "def jackknife_bphi(position_m,position_0,position_p,\n",
    "                   Xs, L,L_jk):\n",
    "    # cut the box into (L/L_jk)**3 subboxes, return mean and variance of \n",
    "    # mean number density after dropping once subbox at a time\n",
    "    V= L**3\n",
    "    V_jk = V-(L_jk)**3\n",
    "    N_sub_1d = int(L//L_jk)\n",
    "    assert V%L_jk**3==0.0\n",
    "    N_sub = N_sub_1d**3\n",
    "    bins = np.linspace(0,L,N_sub_1d+1)\n",
    "    rep_jk = np.zeros((N_sub_1d,N_sub_1d,N_sub_1d))\n",
    "    for i in range(N_sub_1d):\n",
    "        for j in range(N_sub_1d):\n",
    "            for k in range(N_sub_1d):\n",
    "                mask_m = bin_mask(position_m,bins[i:i+2],bins[j:j+2],bins[k:k+2])\n",
    "                mask_0 = bin_mask(position_0,bins[i:i+2],bins[j:j+2],bins[k:k+2])\n",
    "                mask_p = bin_mask(position_p,bins[i:i+2],bins[j:j+2],bins[k:k+2])\n",
    "                n_m,n_0,n_p = np.sum(mask_m)/V_jk,np.sum(mask_0)/V_jk,np.sum(mask_p)/V_jk\n",
    "                rep_jk[i,j,k] = bphi((n_m,n_0,n_p),Xs)\n",
    "                \n",
    "    mean =  np.mean(rep_jk) #\n",
    "    var = (N_sub-1)*np.mean((rep_jk-mean)**2) \n",
    "    return mean,np.sqrt(var)\n"
   ]
  },
  {
   "cell_type": "code",
   "execution_count": 3,
   "metadata": {},
   "outputs": [],
   "source": [
    "tng_path = \"/pscratch/sd/j/jsull/fnl/camels_tng/\"\n",
    "astrid_path = \"/pscratch/sd/j/jsull/fnl/camels_astrid/\""
   ]
  },
  {
   "cell_type": "code",
   "execution_count": null,
   "metadata": {},
   "outputs": [],
   "source": [
    "# see here https://camels.readthedocs.io/en/latest/description.html\n",
    "camels_scale_factors = np.loadtxt(\"/pscratch/sd/j/jsull/fnl/camels_tng/camels_snapshot_scale_factors.txt\")\n",
    "camels_snaps = np.array([ '{:03d}'.format(i) for i in range(len(camels_scale_factors))])\n",
    "snap_dirlist = np.concatenate([[14,18,24,28],range(32,91,2)]) #not all of the groups have redshift output\n",
    "avail_zs = (1./camels_scale_factors - 1.)[snap_dirlist]\n",
    "avail_snaps = camels_snaps[snap_dirlist]\n",
    "camels_zs_snaps = dict(zip(avail_zs, avail_snaps))\n",
    "\n",
    "s8s = np.array([0.7, 0.8, 0.9]) \n",
    "Dzs = Planck15.scale_independent_growth_factor(avail_zs)"
   ]
  },
  {
   "cell_type": "code",
   "execution_count": null,
   "metadata": {},
   "outputs": [],
   "source": [
    "# example code https://camels.readthedocs.io/en/latest/photometry.html\n",
    "def get_gmr_tng(z,s8_str=\"1P_p2_0\",path=tng_path,observed=False,att_string='intrinsic'):\n",
    "    if observed: light = 'flux'\n",
    "    else: light = 'luminosity'\n",
    "    #att_string is either attenuated or intrinsic\n",
    "    # Snapshot number\n",
    "    snap = camels_zs_snaps[z]\n",
    "    # Subfind catalog name\n",
    "    group_catalog = path+s8_str+'/'+f'groups_{snap}.hdf5'\n",
    "    # Photometric catalog name\n",
    "    pref = \"IllustrisTNG\" if path == tng_path else \"Astrid\"\n",
    "    photo_catalog = path+pref+'_{0}_photometry.hdf5'.format(\"1P_p1_0\") if (s8_str ==\"1P_p2_0\" ) else path+pref+'_{0}_photometry.hdf5'.format(s8_str)\n",
    "    # open the catalogue\n",
    "    dL = Planck15.luminosity_distance(z)*1e6/10 *3.086e18/Planck15.h # dL in cm\n",
    "    dm_abs = 1.19649518e+40 #4*pi*(10 pc)^2 in cmsq \n",
    "    if(observed):\n",
    "        dm = 4*np.pi*dL**2\n",
    "    else:\n",
    "        dm = dm_abs\n",
    "    MAB = 48.6\n",
    "    with h5py.File(photo_catalog, \"r\") as hf:\n",
    "        # Get the subhalo index\n",
    "        subhalo_index = np.array(hf[f\"snap_{snap}/SubhaloIndex\"][:], dtype=int)\n",
    "        # Get the g-band magnitude\n",
    "        g_band = -2.5*np.log10(hf[f\"snap_{snap}/BC03/photometry/{light}/{att_string}/SLOAN/SDSS.g\"][:] / dm) - MAB\n",
    "        r_band = -2.5*np.log10(hf[f\"snap_{snap}/BC03/photometry/{light}/{att_string}/SLOAN/SDSS.r\"][:] / dm) - MAB\n",
    "    \n",
    "        if(observed):\n",
    "            g_band = -2.5 * np.log10(hf[f\"snap_{snap}/BC03/photometry/{light}/{att_string}/SLOAN/SDSS.g\"][:] / (1e9 * nJy)) + 8.9\n",
    "            r_band = -2.5 * np.log10(hf[f\"snap_{snap}/BC03/photometry/{light}/{att_string}/SLOAN/SDSS.r\"][:] / (1e9 * nJy)) + 8.9\n",
    "\n",
    "    # we only need this if want to associate the g-band magnitude with the group properties\n",
    "    with h5py.File(group_catalog, \"r\") as hf:\n",
    "        M_star = hf['Subhalo/SubhaloMassType'][:,4]*1e10 # Stellar masses \n",
    "        halo_index = np.array(hf['Subhalo/SubhaloGrNr'][:])\n",
    "        halo_mass200m = np.array(hf['Group/Group_M_Mean200'])[halo_index][:]*1e10 # Halo masses \n",
    "        subhalo_pos = np.array(hf['Subhalo/SubhaloPos'][:])/1e3 # Subhalo positions in Mpc/h\n",
    "    # Filter stellar masses using the subhalo index\n",
    "    M_star = M_star[subhalo_index]\n",
    "    halo_mass200m = halo_mass200m[subhalo_index]\n",
    "    subhalo_pos = subhalo_pos[subhalo_index]\n",
    "    gminusr = g_band - r_band #intrinsic\n",
    "    return gminusr, M_star, halo_mass200m, subhalo_pos, g_band, r_band"
   ]
  },
  {
   "cell_type": "code",
   "execution_count": null,
   "metadata": {},
   "outputs": [],
   "source": [
    "DM = 5*np.log( (Planck15.luminosity_distance(avail_zs[-15])*1e6/Planck15.h / 10.0) )"
   ]
  },
  {
   "cell_type": "code",
   "execution_count": null,
   "metadata": {},
   "outputs": [],
   "source": [
    "def get_all_s8_zs(zs, s8_str=\"1P_p2_0\", path=tng_path, observed=False, att_string='attenuated'):\n",
    "    return [get_gmr_tng(z,s8_str=s8_str,path=path,observed=observed,att_string=att_string) for z in zs]\n",
    "\n",
    "def pre_mask(gmrqz):\n",
    "    return (gmrqz[-1]>-1e10) & (gmrqz[1]>1e8)\n",
    "def get_mask(gmrq,gmrbin,hmassbin=None,smassbin=None,rbin=None ):\n",
    "    gmr,smass,hmass,subhalo_pos,g,r = gmrq\n",
    "    mask = (gmr>gmrbin[0]) & (gmr<=gmrbin[1])\n",
    "    if smassbin is not None:\n",
    "        mask = mask & (smass>smassbin[0]) & (smass<=smassbin[1])\n",
    "    if hmassbin is not None:\n",
    "        mask = mask & (hmass>hmassbin[0]) & (hmass<=hmassbin[1])\n",
    "    if rbin is not None:\n",
    "        mask = mask & (r>rbin[0]) & (r<=rbin[1])\n",
    "\n",
    "    return mask, subhalo_pos[mask]\n",
    "\n",
    "def single_selection_bin_nbars(pos_s8mgmrqs,pos_s80gmrqs,pos_s8pgmrqs,s8s,L):\n",
    "    # this is for a single selection bin\n",
    "    nbars_SU_m = np.zeros(len(avail_zs)-2)\n",
    "    nbars_SU_v = np.zeros(len(avail_zs)-2)\n",
    "    nbars_Dz_m = np.zeros(len(avail_zs)-2)\n",
    "    nbars_Dz_v = np.zeros(len(avail_zs)-2)\n",
    "    for i in range(len(avail_zs)-2):\n",
    "        if i>0 and i<len(avail_zs)-1: #FIXME LAZY\n",
    "            nbars_SU_m[i], nbars_SU_v[i] = jackknife_bphi(pos_s8mgmrqs[i],pos_s80gmrqs[i],pos_s8pgmrqs[i],s8s,L,5.0)\n",
    "            nbars_Dz_m[i], nbars_Dz_v[i] = jackknife_bphi(pos_s80gmrqs[i-1],pos_s80gmrqs[i],pos_s80gmrqs[i+1],Dzs[i-1:i+2],L,5.0)\n",
    "    return nbars_SU_m,nbars_SU_v,nbars_Dz_m,nbars_Dz_v"
   ]
  },
  {
   "cell_type": "code",
   "execution_count": null,
   "metadata": {},
   "outputs": [],
   "source": [
    "s8mgmrqsttt = get_all_s8_zs(avail_zs,s8_str=\"1P_p2_n1\",observed=True,att_string=att_string)\n"
   ]
  },
  {
   "cell_type": "code",
   "execution_count": null,
   "metadata": {},
   "outputs": [],
   "source": [
    "att_string = 'attenuated'\n",
    "observed = False\n",
    "\n",
    "#tng\n",
    "s8mgmrqs = get_all_s8_zs(avail_zs,s8_str=\"1P_p2_n1\",observed=observed,att_string=att_string)\n",
    "s80gmrqs = get_all_s8_zs(avail_zs,s8_str=\"1P_p2_0\",observed=observed,att_string=att_string)\n",
    "s8pgmrqs = get_all_s8_zs(avail_zs,s8_str=\"1P_p2_1\",observed=observed,att_string=att_string)\n",
    "\n",
    "#astrid\n",
    "s8mgmrqs_a = get_all_s8_zs(avail_zs,s8_str=\"1P_p2_n1\",path=astrid_path,\n",
    "                         observed=observed,att_string=att_string)\n",
    "s80gmrqs_a = get_all_s8_zs(avail_zs,s8_str=\"1P_p2_0\",path=astrid_path,\n",
    "                         observed=observed,att_string=att_string)\n",
    "s8pgmrqs_a = get_all_s8_zs(avail_zs,s8_str=\"1P_p2_1\",path=astrid_path,\n",
    "                         observed=observed,att_string=att_string)\n"
   ]
  },
  {
   "cell_type": "code",
   "execution_count": 438,
   "metadata": {},
   "outputs": [],
   "source": [
    "# fix a particular bin to try this, gmr bin and halo mass bin\n",
    "gmrbin=(0.3,0.5)\n",
    "hmbin = None#(1e11,5e11)\n",
    "smbin = None\n",
    "rbin = (-np.inf,-20.)#None\n",
    "nbar_s8mgmrqs = [np.sum(( pre_mask(s8mgmrq) & get_mask(s8mgmrq,gmrbin,hmbin,smbin,rbin)[0] ) )/V for i,s8mgmrq in enumerate(s8mgmrqs)]\n",
    "nbar_s80gmrqs = [np.sum(( pre_mask(s80gmrq) & get_mask(s80gmrq,gmrbin,hmbin,smbin,rbin)[0] ) )/V for i,s80gmrq in enumerate(s80gmrqs)]\n",
    "nbar_s8pgmrqs = [np.sum(( pre_mask(s8pgmrq) & get_mask(s8pgmrq,gmrbin,hmbin,smbin,rbin)[0] ) )/V for i,s8pgmrq in enumerate(s8pgmrqs)]\n",
    "#positions\n",
    "pos_s8mgmrqs = [get_mask(s8mgmrq,gmrbin,hmbin,smbin,rbin)[1] for i,s8mgmrq in enumerate(s8mgmrqs)]\n",
    "pos_s80gmrqs = [get_mask(s80gmrq,gmrbin,hmbin,smbin,rbin)[1] for i,s80gmrq in enumerate(s80gmrqs)]\n",
    "pos_s8pgmrqs = [get_mask(s8pgmrq,gmrbin,hmbin,smbin,rbin)[1] for i,s8pgmrq in enumerate(s8pgmrqs)]"
   ]
  },
  {
   "cell_type": "code",
   "execution_count": 439,
   "metadata": {},
   "outputs": [],
   "source": [
    "# do the same for astrid\n",
    "a_nbar_s8mgmrqs = [np.sum(( pre_mask(s8mgmrq) & get_mask(s8mgmrq,gmrbin,hmbin,smbin,rbin)[0] ) )/V for i,s8mgmrq in enumerate(s8mgmrqs_a)]\n",
    "a_nbar_s80gmrqs = [np.sum(( pre_mask(s80gmrq) & get_mask(s80gmrq,gmrbin,hmbin,smbin,rbin)[0] ) )/V for i,s80gmrq in enumerate(s80gmrqs_a)]\n",
    "a_nbar_s8pgmrqs = [np.sum(( pre_mask(s8pgmrq) & get_mask(s8pgmrq,gmrbin,hmbin,smbin,rbin)[0] ) )/V for i,s8pgmrq in enumerate(s8pgmrqs_a)]\n",
    "\n",
    "a_pos_s8mgmrqs = [get_mask(s8mgmrq,gmrbin,hmbin,smbin,rbin)[1] for i,s8mgmrq in enumerate(s8mgmrqs_a)]\n",
    "a_pos_s80gmrqs = [get_mask(s80gmrq,gmrbin,hmbin,smbin,rbin)[1] for i,s80gmrq in enumerate(s80gmrqs_a)]\n",
    "a_pos_s8pgmrqs = [get_mask(s8pgmrq,gmrbin,hmbin,smbin,rbin)[1] for i,s8pgmrq in enumerate(s8pgmrqs_a)]"
   ]
  },
  {
   "cell_type": "code",
   "execution_count": null,
   "metadata": {},
   "outputs": [],
   "source": [
    "#tng and astrid\n",
    "tng_nbars_SU_m,tng_nbars_SU_v,tng_nbars_Dz_m,tng_nbars_Dz_v = single_selection_bin_nbars(pos_s8mgmrqs,pos_s80gmrqs,pos_s8pgmrqs,s8s,L)\n",
    "a_nbars_SU_m,a_nbars_SU_v,a_nbars_Dz_m,a_nbars_Dz_v = single_selection_bin_nbars(a_pos_s8mgmrqs,a_pos_s80gmrqs,a_pos_s8pgmrqs,s8s,L)"
   ]
  },
  {
   "cell_type": "code",
   "execution_count": null,
   "metadata": {},
   "outputs": [],
   "source": [
    "plt.figure(figsize=(7,5))\n",
    "plt.title(\"Attenuated RF $(g-r)$ color: {0}\".format(gmrbin)\n",
    "          +(\",\\n Halo mass: {0} $M_{\\odot}/h$\".format(hmbin) if hmbin is not None else \"\")\n",
    "          +(\",\\n Stellar mass: {0} $M_{\\odot}/h$\".format(smbin) if smbin is not None else \"\") #FIXME IS THIS PER H?\n",
    "          +\",\\n $M_r$: {0} \".format(rbin) if rbin is not None else \"\",\n",
    "          fontsize=16)\n",
    "plt.errorbar(avail_zs[1:-1],tng_nbars_SU_m,yerr=tng_nbars_SU_v,capsize=5,capthick=2,fmt='o',label=\"TNG: \"+r'$\\sigma_8$')\n",
    "plt.errorbar(avail_zs[1:-1],tng_nbars_Dz_m,yerr=tng_nbars_Dz_v,capsize=5,capthick=2,fmt='.',label=\"TNG: \"+r'$D(z)$')\n",
    "plt.errorbar(avail_zs[1:-1]+0.05,a_nbars_SU_m,yerr=a_nbars_SU_v,capsize=5,capthick=2,fmt='s',label=\"Astrid: \"+r'$\\sigma_8$')\n",
    "plt.errorbar(avail_zs[1:-1]+0.05,a_nbars_Dz_m,yerr=a_nbars_Dz_v,capsize=5,capthick=2,fmt='d',label=\"Astrid: \"+r'$D(z)$')\n",
    "plt.legend(prop={'size': 12})\n",
    "plt.xlim(0,2.3)\n",
    "plt.ylim(-10,50)\n",
    "plt.axhline(ls='--',c='k')\n",
    "plt.ylabel(r\"$b_{\\phi}$\",fontsize=20)\n",
    "plt.xlabel(r\"$z$\",fontsize=20)\n",
    "save_name = 'att_camels_bphi_gmr_{0}_{1}'.format(gmrbin[0],gmrbin[1])\n",
    "if hmbin is not None:\n",
    "    save_name += \"_hmass_{0}_{1}\".format(hmbin[0],hmbin[1])\n",
    "if smbin is not None:\n",
    "    save_name += \"_smass_{0}_{1}\".format(smbin[0],smbin[1])\n",
    "if rbin is not None:\n",
    "    save_name += \"_rmag_{0}_{1}\".format(rbin[0],rbin[1])\n",
    "plt.savefig('../plots/'+save_name+'.png')\n",
    "plt.savefig('../plots/'+save_name+'.pdf')\n"
   ]
  }
 ],
 "metadata": {
  "kernelspec": {
   "display_name": "nbkn",
   "language": "python",
   "name": "python3"
  },
  "language_info": {
   "codemirror_mode": {
    "name": "ipython",
    "version": 3
   },
   "file_extension": ".py",
   "mimetype": "text/x-python",
   "name": "python",
   "nbconvert_exporter": "python",
   "pygments_lexer": "ipython3",
   "version": "3.7.12"
  }
 },
 "nbformat": 4,
 "nbformat_minor": 2
}
