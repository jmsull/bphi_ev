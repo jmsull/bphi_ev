{
 "cells": [
  {
   "cell_type": "markdown",
   "metadata": {},
   "source": [
    "Figure 2"
   ]
  },
  {
   "cell_type": "code",
   "execution_count": null,
   "metadata": {},
   "outputs": [],
   "source": [
    "import numpy as np\n",
    "import matplotlib.pyplot as plt\n",
    "%config InlineBackend.figure_format = 'retina'\n",
    "%matplotlib inline\n",
    "from nbodykit.lab import *\n",
    "from nbodykit import setup_logging, style\n",
    "from nbodykit.cosmology import Planck15\n",
    "from scipy.interpolate import InterpolatedUnivariateSpline as ius\n",
    "import warnings\n",
    "warnings.simplefilter(action='ignore', category=FutureWarning) # many annoying dask warnings from bigfile\n",
    "plt.style.use(style.notebook)\n",
    "setup_logging()"
   ]
  },
  {
   "attachments": {},
   "cell_type": "markdown",
   "metadata": {},
   "source": [
    "Measure $b_{\\phi}$ from SU in mass bins via FD in $\\sigma_{8}$ and $D(z)$\n",
    "(Also eventually do concentration splits)"
   ]
  },
  {
   "attachments": {},
   "cell_type": "markdown",
   "metadata": {},
   "source": [
    "Select fiducial and FD step values of $z$, $\\sigma_{8}$"
   ]
  },
  {
   "cell_type": "code",
   "execution_count": null,
   "metadata": {},
   "outputs": [],
   "source": [
    "z0,s80 = 1.0,0.834\n",
    "s8m = 8.1400e-01\n",
    "s8p = 8.5400e-01\n",
    "zstep = 0.05\n",
    "zm,zp = z0+zstep,z0-zstep"
   ]
  },
  {
   "cell_type": "code",
   "execution_count": null,
   "metadata": {},
   "outputs": [],
   "source": [
    "fid_path = \"./\"\n",
    "seed=3\n",
    "f0 = BigFileCatalog(fid_path+'output_box_2000_fnl_0_s_{1}/fof_{0:.4f}/'.format(1/(1+z0),seed))\n",
    "fm = BigFileCatalog(fid_path+'output_box_2000_fnl_0_s8_minus_s_{1}/fof_{0:.4f}/'.format(1/(1+z0),seed))\n",
    "fp = BigFileCatalog(fid_path+'output_box_2000_fnl_0_s8_plus_s_{1}/fof_{0:.4f}/'.format(1/(1+z0),seed))\n",
    "\n",
    "fzm = BigFileCatalog(fid_path+'output_box_2000_fnl_0_s_{1}/fof_{0:.4f}/'.format(1/(1+zm),seed))\n",
    "fzp = BigFileCatalog(fid_path+'output_box_2000_fnl_0_s_{1}/fof_{0:.4f}/'.format(1/(1+zp),seed))"
   ]
  },
  {
   "cell_type": "code",
   "execution_count": null,
   "metadata": {},
   "outputs": [],
   "source": [
    "ns = 0.9624# from params file\n",
    "cosmom = cosmology.Cosmology(h=fm.attrs['HubbleParam'], Omega0_b=0.0,Omega0_cdm=fm.attrs['OmegaM'], n_s=ns, \n",
    "                             sigma8=s8m)\n",
    "s8s = (s8m,s80,s8p)\n",
    "Dzs = (fzm.attrs['GrowthFactor'],f0.attrs['GrowthFactor'],fzp.attrs['GrowthFactor'])"
   ]
  },
  {
   "attachments": {},
   "cell_type": "markdown",
   "metadata": {},
   "source": [
    "Load FoF Catalogs"
   ]
  },
  {
   "cell_type": "code",
   "execution_count": null,
   "metadata": {},
   "outputs": [],
   "source": [
    "path_pm = './'\n",
    "prefix_pm='output_box_2000_fnl_0_s8_plus_s_12'\n",
    "path_0 = '/pscratch/sd/j/jsull/cori_cscratch/fnl/sfi/'\n",
    "prefix_0 = 'output_box_2000_fnl_0_s_2' "
   ]
  },
  {
   "cell_type": "code",
   "execution_count": 7,
   "metadata": {},
   "outputs": [],
   "source": [
    "# Load power\n",
    "nbars8s = {\"m\":[],\"0\":[],\"p\":[]}\n",
    "nbarDzs = {\"m\":[],\"0\":[],\"p\":[]}\n",
    "path_pk = '/pscratch/sd/j/jsull/cori_cscratch/fnl/bphi/data/power/'\n",
    "for seed in range(3,13):\n",
    "    nbars8s[\"m\"].append( 1/np.load(path_pk+'h_b1_sn_z{0}_fnl0.0_Ng1024_L2000.0_s{1}minus_s_{1}.npy'.format(z0,seed))[:,-1] )\n",
    "    nbars8s[\"0\"].append( 1/np.load(path_pk+'h_b1_sn_z{0}_fnl0.0_Ng1024_L2000.0_s{1}.npy'.format(z0,seed))[:,-1] )\n",
    "    nbars8s[\"p\"].append( 1/np.load(path_pk+'h_b1_sn_z{0}_fnl0.0_Ng1024_L2000.0_s{1}plus_s_{1}.npy'.format(z0,seed))[:,-1] )\n",
    "\n",
    "    nbarDzs[\"m\"].append( 1/np.load(path_pk+'h_b1_sn_z{0}_fnl0.0_Ng1024_L2000.0_s{1}.npy'.format(zm,seed))[:,-1] )\n",
    "    nbarDzs[\"p\"].append( 1/np.load(path_pk+'h_b1_sn_z{0}_fnl0.0_Ng1024_L2000.0_s{1}.npy'.format(zp,seed))[:,-1] )\n",
    "nbarDzs[\"0\"] = nbars8s[\"0\"]\n"
   ]
  },
  {
   "cell_type": "code",
   "execution_count": 9,
   "metadata": {},
   "outputs": [],
   "source": [
    "def bphi(Ns,Xs): # from TNG file\n",
    "    #X = sigma8 or Dz\n",
    "    # Function to compute (centered) FD derivative given some numberdensity tuple (Nm,N0,Np)\n",
    "    # and corresponding redshift/s8 tuple (zm,z0,zp) in order of decreasing redshift (increasing a)\n",
    "    # or increasing sigma8\n",
    "    d1pX1,d1pX2 = Xs[0]-Xs[1],-(Xs[1]-Xs[2])\n",
    "    reld1pX1,reld1pX2 = d1pX1/(Xs[1]),d1pX2/(Xs[1])\n",
    "    bphi_hi = 2/reld1pX1 *(Ns[0]/Ns[1] -1) #low on N refers to low g-r, redshifts in dec order\n",
    "    bphi_lo = 2/reld1pX2 *(Ns[2]/Ns[1] -1) \n",
    "    #averaging procedure of Barriera++20\n",
    "    bphi = (bphi_hi + bphi_lo)/2.0\n",
    "    return bphi\n"
   ]
  },
  {
   "cell_type": "code",
   "execution_count": null,
   "metadata": {},
   "outputs": [],
   "source": [
    "bphis8s = {\"M1\":[],\"M2\":[],\"M3\":[]}\n",
    "bphiDzs = {\"M1\":[],\"M2\":[],\"M3\":[]}\n",
    "for j in range(3):\n",
    "    for i in range(len(nbars8s['0'])):\n",
    "        bphis8s['M{0}'.format(j+1)].append(bphi((nbars8s[\"m\"][i][j],nbars8s[\"0\"][i][j],nbars8s[\"p\"][i][j]),s8s))\n",
    "        bphiDzs['M{0}'.format(j+1)].append(bphi((nbarDzs[\"m\"][i][j],nbarDzs[\"0\"][i][j],nbarDzs[\"p\"][i][j]),Dzs))"
   ]
  },
  {
   "cell_type": "code",
   "execution_count": 11,
   "metadata": {},
   "outputs": [],
   "source": [
    "fine_mbins=np.logspace(13.1,14.75,20)"
   ]
  },
  {
   "cell_type": "code",
   "execution_count": 12,
   "metadata": {},
   "outputs": [],
   "source": [
    "def count_bins(cat,mbins):\n",
    "    cat['Mass'] = cat['Length']*cat.attrs['M0'][0]*1e10\n",
    "    counts = []\n",
    "    for i in range(len(fine_mbins)-1):\n",
    "        counts.append( len(cat['Mass'][(cat['Mass']>mbins[i]) & (cat['Mass']<=mbins[i+1])]) )\n",
    "    return np.array(counts)"
   ]
  },
  {
   "cell_type": "code",
   "execution_count": null,
   "metadata": {},
   "outputs": [],
   "source": [
    "# Load power\n",
    "fine_nbars8s = {\"m\":[],\"0\":[],\"p\":[]}\n",
    "fine_nbarDzs = {\"m\":[],\"0\":[],\"p\":[]}\n",
    "path_hcat = './'\n",
    "for seed in range(3,13):\n",
    "    print(\"seed: \",seed)\n",
    "    fine_nbars8s[\"m\"].append( count_bins(BigFileCatalog(path_hcat+'output_box_2000_fnl_0_s8_minus_s_{1}/fof_{0:.4f}/'.format(1/(1+z0),seed)+'LL-0.200/'), fine_mbins) )\n",
    "    fine_nbars8s[\"0\"].append( count_bins(BigFileCatalog(path_hcat+'output_box_2000_fnl_0_s_{1}/fof_{0:.4f}/'.format(1/(1+z0),seed)+'LL-0.200/'), fine_mbins) )\n",
    "    fine_nbars8s[\"p\"].append( count_bins(BigFileCatalog(path_hcat+'output_box_2000_fnl_0_s8_plus_s_{1}/fof_{0:.4f}/'.format(1/(1+z0),seed)+'LL-0.200/'), fine_mbins) )\n",
    "    fine_nbarDzs[\"m\"].append( count_bins(BigFileCatalog(path_hcat+'output_box_2000_fnl_0_s_{1}/fof_{0:.4f}/'.format(1/(1+zm),seed)+'LL-0.200/'), fine_mbins) )\n",
    "    fine_nbarDzs[\"p\"].append( count_bins(BigFileCatalog(path_hcat+'output_box_2000_fnl_0_s_{1}/fof_{0:.4f}/'.format(1/(1+zp),seed)+'LL-0.200/'), fine_mbins) )\n",
    "fine_nbarDzs[\"0\"] = fine_nbars8s[\"0\"]\n"
   ]
  },
  {
   "cell_type": "code",
   "execution_count": null,
   "metadata": {},
   "outputs": [],
   "source": [
    "# Load power\n",
    "fine_nbarDzs_fnl100 = {\"m\":[],\"0\":[],\"p\":[]}\n",
    "path_hcat = '/pscratch/sd/j/jsull/cori_cscratch/fnl/sfi/'\n",
    "path_hcat = './'\n",
    "for seed in range(2,11): \n",
    "    print(\"seed: \",seed)\n",
    "    fine_nbarDzs_fnl100[\"0\"].append( count_bins(BigFileCatalog(path_hcat+'output_box_2000_fnl_100_s_{1}/fof_{0:.4f}/'.format(1/(1+z0),seed)+'LL-0.200/'), fine_mbins) )\n",
    "    fine_nbarDzs_fnl100[\"m\"].append( count_bins(BigFileCatalog(path_hcat+'output_box_2000_fnl_100_s_{1}/fof_{0:.4f}/'.format(1/(1+zm),seed)+'LL-0.200/'), fine_mbins) )\n",
    "    fine_nbarDzs_fnl100[\"p\"].append( count_bins(BigFileCatalog(path_hcat+'output_box_2000_fnl_100_s_{1}/fof_{0:.4f}/'.format(1/(1+zp),seed)+'LL-0.200/'), fine_mbins) )\n"
   ]
  },
  {
   "cell_type": "code",
   "execution_count": 58,
   "metadata": {},
   "outputs": [],
   "source": [
    "fine_bphis8s = dict(zip([\"M{0}\".format(i+1) for i in range(len(fine_mbins)-1)],[[] for i in range(len(fine_mbins)-1)]))\n",
    "fine_bphiDzs = dict(zip([\"M{0}\".format(i+1) for i in range(len(fine_mbins)-1)],[[] for i in range(len(fine_mbins)-1)]))\n",
    "for j in range(len(fine_mbins)-1):\n",
    "    for i in range(len(fine_nbars8s['0'])):\n",
    "\n",
    "        fine_bphis8s['M{0}'.format(j+1)].append(bphi((fine_nbars8s[\"m\"][i][j],fine_nbars8s[\"0\"][i][j],fine_nbars8s[\"p\"][i][j]),s8s))\n",
    "        fine_bphiDzs['M{0}'.format(j+1)].append(bphi((fine_nbarDzs[\"m\"][i][j],fine_nbarDzs[\"0\"][i][j],fine_nbarDzs[\"p\"][i][j]),Dzs))"
   ]
  },
  {
   "cell_type": "code",
   "execution_count": 59,
   "metadata": {},
   "outputs": [],
   "source": [
    "fine_bphiDzs_fnl100 = dict(zip([\"M{0}\".format(i+1) for i in range(len(fine_mbins)-1)],[[] for i in range(len(fine_mbins)-1)]))\n",
    "for j in range(len(fine_mbins)-1):\n",
    "    for i in range(len(fine_nbarDzs_fnl100['0'])):\n",
    "        fine_bphiDzs_fnl100['M{0}'.format(j+1)].append(bphi((fine_nbarDzs_fnl100[\"m\"][i][j],fine_nbarDzs_fnl100[\"0\"][i][j],fine_nbarDzs_fnl100[\"p\"][i][j]),Dzs))"
   ]
  },
  {
   "cell_type": "code",
   "execution_count": null,
   "metadata": {},
   "outputs": [],
   "source": [
    "import matplotlib.pylab as pl\n",
    "import matplotlib as mpl\n",
    "colors = pl.cm.Blues(np.linspace(0,1,len(fine_mbins)-1))\n",
    "colors2 = pl.cm.Reds(np.linspace(0,1,len(fine_mbins)-1))\n",
    "\n",
    "cmap = mpl.cm.Blues\n",
    "norm = mpl.colors.Normalize(vmin=np.log10(fine_mbins.min()), vmax=np.log10(fine_mbins.max()))\n"
   ]
  },
  {
   "cell_type": "code",
   "execution_count": null,
   "metadata": {},
   "outputs": [],
   "source": [
    "for i in range(len(fine_mbins)-1): plt.scatter(fine_bphis8s['M{0}'.format(i+1)],fine_bphiDzs['M{0}'.format(i+1)])\n",
    "plt.plot(np.linspace(5,30),np.linspace(5,30),ls='--',c='k')\n",
    "plt.show()\n",
    "\n",
    "\n",
    "for i in range(len(fine_mbins)-1):\n",
    "    plt.scatter(x=np.mean(fine_bphis8s['M{0}'.format(i+1)]),y=np.mean(fine_bphiDzs['M{0}'.format(i+1)]),\n",
    "                 c=colors[i],\n",
    "                 marker='.')\n",
    "\n",
    "plt.colorbar(mpl.cm.ScalarMappable(norm=norm, cmap='Blues'),\n",
    "              orientation='vertical', label=r'$\\log_{10}~ M_{h}$')\n",
    "\n",
    "for i in range(len(fine_mbins)-1):\n",
    "    plt.errorbar(x=np.mean(fine_bphis8s['M{0}'.format(i+1)]),y=np.mean(fine_bphiDzs['M{0}'.format(i+1)]),\n",
    "                 xerr=np.std(fine_bphis8s['M{0}'.format(i+1)]),yerr=np.std(fine_bphiDzs['M{0}'.format(i+1)]),\n",
    "                 capsize=3,capthick=2,\n",
    "                 c=colors[i],\n",
    "                 marker='.')\n",
    "\n",
    "            \n",
    "plt.plot(np.linspace(6,26),np.linspace(6,26),ls='--',c='k')\n",
    "plt.xlabel(r'$b_{\\phi}^{\\sigma_8}$')\n",
    "plt.ylabel(r'$b_{\\phi}^{D(z)}$')\n",
    "plt.tight_layout()\n",
    "plt.savefig('../plots/su_fastpm.pdf')\n",
    "plt.savefig('../plots/su_fastpm.png')\n",
    "plt.show()"
   ]
  },
  {
   "attachments": {},
   "cell_type": "markdown",
   "metadata": {},
   "source": []
  },
  {
   "attachments": {},
   "cell_type": "markdown",
   "metadata": {},
   "source": []
  }
 ],
 "metadata": {
  "kernelspec": {
   "display_name": "Python 3",
   "language": "python",
   "name": "python3"
  },
  "language_info": {
   "codemirror_mode": {
    "name": "ipython",
    "version": 3
   },
   "file_extension": ".py",
   "mimetype": "text/x-python",
   "name": "python",
   "nbconvert_exporter": "python",
   "pygments_lexer": "ipython3",
   "version": "3.6.9"
  },
  "orig_nbformat": 4
 },
 "nbformat": 4,
 "nbformat_minor": 2
}
